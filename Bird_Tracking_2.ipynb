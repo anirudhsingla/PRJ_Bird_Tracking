{
 "cells": [
  {
   "cell_type": "markdown",
   "metadata": {},
   "source": [
    "In this second part of the case study, we are going to visualize 2D speed vs Frequency for the gull named “Michelle”."
   ]
  },
  {
   "cell_type": "code",
   "execution_count": 9,
   "metadata": {},
   "outputs": [],
   "source": [
    "import pandas as pd \n",
    "import matplotlib.pyplot as plt \n",
    "import numpy as np \n",
    "%matplotlib inline"
   ]
  },
  {
   "cell_type": "code",
   "execution_count": 10,
   "metadata": {},
   "outputs": [
    {
     "name": "stdout",
     "output_type": "stream",
     "text": [
      "<class 'pandas.core.frame.DataFrame'>\n",
      "                                            the_geom cartodb_id altitude  \\\n",
      "0  0101000020E6100000524C39BAA550164079BB140D0884...      55012       -2   \n",
      "1  0101000020E6100000E17CEA58A54402403AA1C6736CF8...     311215       86   \n",
      "2  0101000020E610000060048D9944AD0940444FCAA486A6...     459132       10   \n",
      "3  0101000020E6100000AB5CA8FC6BA90940918AB5AE87A4...       8108       62   \n",
      "4  0101000020E610000018B2BAD573C209403B75406DAF9A...      13736       86   \n",
      "\n",
      "  bird_name  speed_2d  longitude   latitude               date_time  \\\n",
      "0     Harry       NaN   5.578757  53.031496  2014-06-05 05:13:31+00   \n",
      "1     Sanne       NaN   2.283519  49.940810  2013-08-03 00:56:10+00   \n",
      "2      Eric       NaN   3.209604  51.300984  2013-05-30 19:22:03+00   \n",
      "3     Harry       NaN   3.207726  51.285391  2013-06-27 11:14:29+00   \n",
      "4     Harry       NaN   3.219947  51.208479  2013-07-13 11:17:39+00   \n",
      "\n",
      "   _feature_count  \n",
      "0               1  \n",
      "1               1  \n",
      "2               1  \n",
      "3               1  \n",
      "4               1  \n",
      "                                                 the_geom cartodb_id altitude  \\\n",
      "666514  0101000020E6100000DF180280637F0940648CB4F924AC...     666515       58   \n",
      "666515  0101000020E61000008BCEE8FD357F0940BA771E262BAC...     666516       56   \n",
      "666516  0101000020E6100000BF8BAD56DC7E094093F9EC2532AC...     666517       27   \n",
      "666517  0101000020E61000008DAFE2F9B17E09401DE967452FAC...     666518        5   \n",
      "666518  0101000020E610000058AD4CF8A57E09401DE967452FAC...     666519        1   \n",
      "\n",
      "       bird_name  speed_2d  longitude   latitude               date_time  \\\n",
      "666514      Nico  0.093335   3.187202  51.344878  2014-06-01 19:22:25+00   \n",
      "666515      Nico  0.119135   3.187115  51.345067  2014-06-01 19:28:17+00   \n",
      "666516      Nico  0.178673   3.186944  51.345280  2014-06-01 19:31:15+00   \n",
      "666517      Nico  0.098107   3.186863  51.345193  2014-06-01 19:34:10+00   \n",
      "666518      Nico  1.591115   3.186840  51.345193  2014-06-01 19:37:10+00   \n",
      "\n",
      "        _feature_count  \n",
      "666514               1  \n",
      "666515               1  \n",
      "666516               1  \n",
      "666517               1  \n",
      "666518               1  \n",
      "Index(['the_geom', 'cartodb_id', 'altitude', 'bird_name', 'speed_2d',\n",
      "       'longitude', 'latitude', 'date_time', '_feature_count'],\n",
      "      dtype='object')\n",
      "(666519, 9)\n",
      "666519\n"
     ]
    }
   ],
   "source": [
    "birddata = pd.read_csv(\"Datasets/bird_tracking.csv\", low_memory=False) \n",
    "bird_names = pd.unique(birddata.bird_name)  \n",
    "print(type(birddata))\n",
    "print(birddata.head())\n",
    "print(birddata.tail())\n",
    "print(birddata.columns)\n",
    "print(birddata.shape)\n",
    "print(birddata.shape[0])"
   ]
  },
  {
   "cell_type": "code",
   "execution_count": 11,
   "metadata": {},
   "outputs": [
    {
     "data": {
      "image/png": "[encoded data removed]",
      "text/plain": [
       "<Figure size 864x432 with 1 Axes>"
      ]
     },
     "metadata": {
      "needs_background": "light"
     },
     "output_type": "display_data"
    }
   ],
   "source": [
    "ix = birddata.bird_name == \"Michelle\" \n",
    "speed = birddata.speed_2d[ix] \n",
    "  \n",
    "plt.figure(figsize = (12,6)) \n",
    "ind = np.isnan(speed) \n",
    "plt.hist(speed[~ind], bins = np.linspace(0,30,20), density=True) \n",
    "plt.xlabel(\" 2D speed (m/s) \") \n",
    "plt.ylabel(\" Frequency \") \n",
    "plt.show() "
   ]
  },
  {
   "cell_type": "markdown",
   "metadata": {},
   "source": [
    "The parameters speed[~ind] indicates that we will include only those entries for which ind != True, bins=np.linspace(0,30,20) indicates the bins along x axis will vary from 0 to 30 with 20 bins within them, linearly spaced.Lastly, we plot 2D speed in m/s along x-axis and Frequency along y-axis using the xlabel() and ylabel() functions respectively and plot the data using plt.show()."
   ]
  },
  {
   "cell_type": "code",
   "execution_count": null,
   "metadata": {},
   "outputs": [],
   "source": []
  }
 ],
 "metadata": {
  "kernelspec": {
   "display_name": "Python 3",
   "language": "python",
   "name": "python3"
  },
  "language_info": {
   "codemirror_mode": {
    "name": "ipython",
    "version": 3
   },
   "file_extension": ".py",
   "mimetype": "text/x-python",
   "name": "python",
   "nbconvert_exporter": "python",
   "pygments_lexer": "ipython3",
   "version": "3.7.1"
  }
 },
 "nbformat": 4,
 "nbformat_minor": 2
}
